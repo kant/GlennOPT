{
  "nbformat": 4,
  "nbformat_minor": 0,
  "metadata": {
    "colab": {
      "name": "ProbePlacementExample.ipynb",
      "provenance": [],
      "collapsed_sections": [],
      "toc_visible": true
    },
    "kernelspec": {
      "display_name": "Python 3",
      "name": "python3"
    }
  },
  "cells": [
    {
      "cell_type": "markdown",
      "metadata": {
        "id": "HWIxg0g3Rtrj"
      },
      "source": [
        "#Multi-objective Probe Placement Optimization\n",
        "This is based on a paper by Lou et al. (GT2020-14867 and GT2020-15465), Reconstructing Compressor Non-Uniform Circumferential Flow Field\n",
        "from Spatially Undersampled Data.\n",
        "\n",
        "##Problem Description\n",
        "The flow in turbomachinery experiments is inherently nonuniform around the annulus, and understanding the circumferential variation of the flowfield is often critical to the technological advancement of both compressors and turbines. However, characterizing the circumferential variation of the flow field with high spatial resolution is often impractical: physical constraints limit the instrumentation that can be placed in the flow path, and circumferential probe traverses are costly and complex.\n",
        "\n",
        "##Approach\n",
        "There are two applications of circumferential signal reconstruction:\n",
        "  1) Rig design (spefically, probe placement)\n",
        "  2) Data analysis\n",
        "\n",
        "Concerning rig design, the primary wavenumbers of interest must be determined. These may be provide in detail from "
      ]
    },
    {
      "cell_type": "markdown",
      "metadata": {
        "id": "kzZFUYXQTz62"
      },
      "source": [
        "###Step 1: Cloning the Project (House keeping)\n",
        "Lets clone the test project in Glennopt. We will need the test folder located in GlennOPT/test/ProbePlacement_multi/parallel"
      ]
    },
    {
      "cell_type": "code",
      "metadata": {
        "id": "-gE-Ez1qtyIA",
        "outputId": "d5ed3997-3a73-4b56-8ee3-e5c1ac14a314",
        "colab": {
          "base_uri": "https://localhost:8080/",
          "height": 34
        }
      },
      "source": [
        "# Clone the source code for GlennOPT\n",
        "!git clone https://github.com/nasa/GlennOPT.git\n",
        "# Little Housekeeping\n",
        "!cp -r GlennOPT/test/ProbePlacement_multi/parallel/Evaluation/ .    # Copy the folder we need \n",
        "!rm GlennOPT/ -r        # Deletes GlennOPT source code. We don't need this anymore\n",
        "!rm sample_data -r\n"
      ],
      "execution_count": 6,
      "outputs": [
        {
          "output_type": "stream",
          "text": [
            "fatal: destination path 'GlennOPT' already exists and is not an empty directory.\n"
          ],
          "name": "stdout"
        }
      ]
    },
    {
      "cell_type": "code",
      "metadata": {
        "id": "G82fsy9HS71f",
        "outputId": "3d09c302-04e3-46ec-dd26-048f78e99632",
        "colab": {
          "base_uri": "https://localhost:8080/",
          "height": 513
        }
      },
      "source": [
        "# Install GlennOPT \n",
        "!python --version\n",
        "!pip install glennopt"
      ],
      "execution_count": 19,
      "outputs": [
        {
          "output_type": "stream",
          "text": [
            "Python 3.6.9\n",
            "Collecting glennopt\n",
            "  Downloading https://files.pythonhosted.org/packages/0b/87/8a828811cc0fe9ffaa6557fe1f4987af04f033d1384bec35d37673ff2cc9/GlennOPT-1.0.6-py3-none-any.whl\n",
            "Requirement already satisfied: numpy in /usr/local/lib/python3.6/dist-packages (from glennopt) (1.18.5)\n",
            "Collecting matplotlib<4.0.0,>=3.3.1\n",
            "\u001b[?25l  Downloading https://files.pythonhosted.org/packages/cd/d6/8c4dfb23151d5a494c66ebbfdb5c8c433b44ec07fae52da5939fcda0943f/matplotlib-3.3.2-cp36-cp36m-manylinux1_x86_64.whl (11.6MB)\n",
            "\u001b[K     |████████████████████████████████| 11.6MB 359kB/s \n",
            "\u001b[?25hRequirement already satisfied: psutil in /usr/local/lib/python3.6/dist-packages (from glennopt) (5.4.8)\n",
            "Requirement already satisfied: pandas in /usr/local/lib/python3.6/dist-packages (from glennopt) (1.1.2)\n",
            "Requirement already satisfied: cycler>=0.10 in /usr/local/lib/python3.6/dist-packages (from matplotlib<4.0.0,>=3.3.1->glennopt) (0.10.0)\n",
            "Requirement already satisfied: python-dateutil>=2.1 in /usr/local/lib/python3.6/dist-packages (from matplotlib<4.0.0,>=3.3.1->glennopt) (2.8.1)\n",
            "Requirement already satisfied: certifi>=2020.06.20 in /usr/local/lib/python3.6/dist-packages (from matplotlib<4.0.0,>=3.3.1->glennopt) (2020.6.20)\n",
            "Requirement already satisfied: kiwisolver>=1.0.1 in /usr/local/lib/python3.6/dist-packages (from matplotlib<4.0.0,>=3.3.1->glennopt) (1.2.0)\n",
            "Requirement already satisfied: pyparsing!=2.0.4,!=2.1.2,!=2.1.6,>=2.0.3 in /usr/local/lib/python3.6/dist-packages (from matplotlib<4.0.0,>=3.3.1->glennopt) (2.4.7)\n",
            "Requirement already satisfied: pillow>=6.2.0 in /usr/local/lib/python3.6/dist-packages (from matplotlib<4.0.0,>=3.3.1->glennopt) (7.0.0)\n",
            "Requirement already satisfied: pytz>=2017.2 in /usr/local/lib/python3.6/dist-packages (from pandas->glennopt) (2018.9)\n",
            "Requirement already satisfied: six in /usr/local/lib/python3.6/dist-packages (from cycler>=0.10->matplotlib<4.0.0,>=3.3.1->glennopt) (1.15.0)\n",
            "\u001b[31mERROR: albumentations 0.1.12 has requirement imgaug<0.2.7,>=0.2.5, but you'll have imgaug 0.2.9 which is incompatible.\u001b[0m\n",
            "Installing collected packages: matplotlib, glennopt\n",
            "  Found existing installation: matplotlib 3.2.2\n",
            "    Uninstalling matplotlib-3.2.2:\n",
            "      Successfully uninstalled matplotlib-3.2.2\n",
            "Successfully installed glennopt-1.0.6 matplotlib-3.3.2\n"
          ],
          "name": "stdout"
        },
        {
          "output_type": "display_data",
          "data": {
            "application/vnd.colab-display-data+json": {
              "pip_warning": {
                "packages": [
                  "matplotlib",
                  "mpl_toolkits"
                ]
              }
            }
          },
          "metadata": {
            "tags": []
          }
        }
      ]
    },
    {
      "cell_type": "markdown",
      "metadata": {
        "id": "Mm7Az99Hm0ZA"
      },
      "source": [
        "Import relevant libraries"
      ]
    },
    {
      "cell_type": "code",
      "metadata": {
        "id": "hvsEjIEQURPF"
      },
      "source": [
        "from glennopt.helpers import Parameter, parallel_settings, de_mutation_type, mutation_parameters\n",
        "from glennopt.optimizers import NSGA3\n",
        "import numpy as np\n",
        "import os"
      ],
      "execution_count": 5,
      "outputs": []
    },
    {
      "cell_type": "code",
      "metadata": {
        "id": "arNMkiHynevz"
      },
      "source": [
        "# Define evaluation parameters \n",
        "nProbes = 10\n",
        "minSpacing = 3\n",
        "probeSpacing = 360/nProbes\n",
        "tLo     = np.zeros(nProbes)\n",
        "tHi     = np.zeros(nProbes)\n",
        "eval_parameters = list()\n",
        "for i in range(nProbes):\n",
        "    tLo[i] = probeSpacing*i\n",
        "    if i != nProbes-1:\n",
        "        tHi[i] = probeSpacing*(i+1) - minSpacing\n",
        "    else:\n",
        "        tHi[-1] = probeSpacing*(i+1)    \n",
        "    eval_parameters.append(Parameter(name=\"x\"+str(i+1),min_value=tLo[i],max_value=tHi[i]))\n",
        "constraints = (tLo,tHi)\n",
        "\n",
        "# Define the number of objectives\n",
        "objectives = list()\n",
        "objectives.append(Parameter(name='objective1'))\n",
        "objectives.append(Parameter(name='objective2'))\n",
        "\n",
        "# Define any performance parameters you want to keep track of (tracking only)\n",
        "perf_parameters = list()\n",
        "perf_parameters.append(Parameter(name='PearsonR'))\n",
        "perf_parameters.append(Parameter(name='RMS_Error'))"
      ],
      "execution_count": 6,
      "outputs": []
    },
    {
      "cell_type": "code",
      "metadata": {
        "id": "o8vGLFkHnmAz"
      },
      "source": [
        "# Set up the optimizer\n",
        "current_dir = os.getcwd()\n",
        "pop_size = 48\n",
        "ns = NSGA3(eval_script = \"Evaluation/evaluation.py\", eval_folder=\"Evaluation\",pop_size=pop_size,optimization_folder=current_dir)\n",
        "ns.add_eval_parameters(eval_params = eval_parameters)\n",
        "ns.add_performance_parameters(perf_parameters)\n",
        "ns.add_objectives(objectives=objectives)"
      ],
      "execution_count": 7,
      "outputs": []
    },
    {
      "cell_type": "markdown",
      "metadata": {
        "id": "rZTXHADuN8O6"
      },
      "source": [
        "Enable Parallel Execution (OPTIONAL) "
      ]
    },
    {
      "cell_type": "code",
      "metadata": {
        "id": "VMoA-2bbpN8u"
      },
      "source": [
        "# Parallel Settings (You don't need to run this block if you only want serial execution)\n",
        "ns.parallel_settings.concurrent_executions = 8    # Change to 1 for serial\n",
        "ns.parallel_settings.cores_per_execution: 1    \n",
        "ns.parallel_settings.execution_timeout = 0.2      # minutes"
      ],
      "execution_count": 8,
      "outputs": []
    },
    {
      "cell_type": "markdown",
      "metadata": {
        "id": "qhFjdeCXRr2c"
      },
      "source": [
        "##Run the Design of Experiments\n",
        "Design of experiments is used to sample the evaluation space. Say you have 5 variables and f(x[1-5]) = y[1,2] and each x1 through x5 have min and max bounds. The design of experiments is used to evaluate different combinations of x1 to x5 which are used as the starting population (pop_start=-1) "
      ]
    },
    {
      "cell_type": "code",
      "metadata": {
        "id": "QATjqxjePnBg"
      },
      "source": [
        "# Run the Design of Experiments\n",
        "ns.start_doe(doe_size=128)                                    # This generates individuals that have evaluation parameters randomly distributed between the bounds \n"
      ],
      "execution_count": 9,
      "outputs": []
    },
    {
      "cell_type": "code",
      "metadata": {
        "id": "CkmTt9tDV8rg"
      },
      "source": [
        "# Execute the Optimization\n",
        "ns.optimize_from_population(pop_start=-1,n_generations=80)    # Start from the DOE and iterate from pop 0 to 79"
      ],
      "execution_count": null,
      "outputs": []
    }
  ]
}