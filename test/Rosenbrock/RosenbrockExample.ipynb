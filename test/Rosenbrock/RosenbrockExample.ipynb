{
  "nbformat": 4,
  "nbformat_minor": 2,
  "metadata": {
    "colab": {
      "name": "RosenbrockExample.ipynb",
      "provenance": [],
      "collapsed_sections": []
    },
    "kernelspec": {
      "display_name": "Python 3",
      "name": "python3"
    }
  },
  "cells": [
    {
      "cell_type": "markdown",
      "source": [
        "#Single Objective Rosenbrock Example\n",
        "In this example you will learn how to set up a single objective differential evolution solver to solving for the minimum of the rosenbrock function. \n",
        "\n",
        "> Note: When working with an optimizer or with any code. It is important to know what folder you are launching the optimization on. You need to know where your working folder is. In Linux terminal or powershell you can type `pwd` to figure this out. \n",
        "\n",
        "> The paths that I use in the examples are all relative paths. This is so that the code is easily shared with others.\n",
        "\n",
        "> Using absolute paths should only be reserved for programs that are sensitive and are not meant to be shared. \n",
        "\n",
        "## About Rosenbrock \n",
        "Rosenbrock is an interesting function with steep gradients near the bounds but as you get close to the minimum (blue zone) the gradients become less steep and close to 0. This makes it a hard function to find the minimum of.\n",
        "\n",
        "The equation for Rosenbrock \n",
        "\n",
        "$f(x,y) = (a-x)^2 + b(y-x^2)^2$\n",
        "\n",
        "Multi-variable version is \n",
        "\n",
        "$f(x) = f(x_1,x_2,x_3,...,x_n) = \\sum_{i=1}^{N/2} [100(x_{2i-1}^2 - x_{2i})^2 + (x_{2i-1}-1)^2]$\n",
        "\n",
        "Link to wikipedia article https://en.wikipedia.org/wiki/Rosenbrock_function \n",
        "\n",
        "[Example from Wikpedia](https://en.wikipedia.org/wiki/Rosenbrock_function#/media/File:Rosenbrock_function.svg)\n",
        "\n",
        "\n",
        "## Methodology\n",
        "1. This tutorial will cover the following steps cloning of the project. This downloads the code to evaluate the rosenbrock function. \n",
        "2. Is the setting up of glennopt to copy the evaluation function and execute a design of experiments(DOE). This evaluates the design space and lets the optimizer know where the minimum might be and what parameters. \n",
        "3. Optimization from the DOE. From the randomized design of experiments or non random if you use fullfactorial. The optimizer will proceed with taking the best design and perform mutation and crossover with other designs to generate a new population of potentially better designs. The loop will continue indefinitely; however it may reach something that is close to a minimum by the 50th population.\n"
      ],
      "metadata": {
        "id": "HWIxg0g3Rtrj"
      }
    },
    {
      "cell_type": "markdown",
      "source": [
        "###Step 1: Cloning the Project and Rosenbrock codes\n",
        "Lets clone the test project in Glennopt. We will need the test folder located in GlennOPT/test/Rosenbrock/serial/Evaluation/."
      ],
      "metadata": {
        "id": "kzZFUYXQTz62"
      }
    },
    {
      "cell_type": "code",
      "execution_count": 1,
      "source": [
        "# Clone the source code for GlennOPT\r\n",
        "!git clone https://github.com/nasa/GlennOPT.git\r\n",
        "# Little Housekeeping\r\n",
        "!cp -r GlennOPT/test/Rosenbrock/serial/Evaluation/ .    # Copy the folder we need \r\n",
        "!rm GlennOPT/ -r        # Deletes GlennOPT source code. We don't need this anymore\r\n",
        "!rm sample_data -r"
      ],
      "outputs": [
        {
          "output_type": "stream",
          "name": "stdout",
          "text": [
            "Cloning into 'GlennOPT'...\n",
            "remote: Enumerating objects: 1391, done.\u001b[K\n",
            "remote: Counting objects: 100% (722/722), done.\u001b[K\n",
            "remote: Compressing objects: 100% (443/443), done.\u001b[K\n",
            "remote: Total 1391 (delta 412), reused 521 (delta 246), pack-reused 669\u001b[K\n",
            "Receiving objects: 100% (1391/1391), 2.75 MiB | 11.53 MiB/s, done.\n",
            "Resolving deltas: 100% (791/791), done.\n"
          ]
        }
      ],
      "metadata": {
        "id": "-gE-Ez1qtyIA",
        "colab": {
          "base_uri": "https://localhost:8080/"
        },
        "outputId": "ff676210-0f73-43d1-b542-97343885dd60"
      }
    },
    {
      "cell_type": "code",
      "execution_count": 2,
      "source": [
        "# Install GlennOPT \r\n",
        "!python --version\r\n",
        "!pip install --upgrade glennopt pillow matplotlib numpy"
      ],
      "outputs": [
        {
          "output_type": "stream",
          "name": "stdout",
          "text": [
            "Python 3.7.10\n",
            "Collecting glennopt\n",
            "  Downloading https://files.pythonhosted.org/packages/a1/c3/ed861e2fa828a606d83a812aab69eeb4e7750c1895eb8eba63f5f37ba9f2/GlennOPT-1.2.1-py3-none-any.whl\n",
            "Collecting pillow\n",
            "\u001b[?25l  Downloading https://files.pythonhosted.org/packages/8e/7a/b047f6f80fdb02c0cca1d3761d71e9800bcf6d4874b71c9e6548ec59e156/Pillow-8.3.1-cp37-cp37m-manylinux_2_5_x86_64.manylinux1_x86_64.whl (3.0MB)\n",
            "\u001b[K     |████████████████████████████████| 3.0MB 7.4MB/s \n",
            "\u001b[?25hCollecting matplotlib\n",
            "\u001b[?25l  Downloading https://files.pythonhosted.org/packages/24/33/5568d443ba438d95d4db635dd69958056f087e57e1026bee56f959d53f9d/matplotlib-3.4.2-cp37-cp37m-manylinux1_x86_64.whl (10.3MB)\n",
            "\u001b[K     |████████████████████████████████| 10.3MB 44.2MB/s \n",
            "\u001b[?25hCollecting numpy\n",
            "\u001b[?25l  Downloading https://files.pythonhosted.org/packages/3f/03/c3526fb4e79a793498829ca570f2f868204ad9a8040afcd72d82a8f121db/numpy-1.21.0-cp37-cp37m-manylinux_2_12_x86_64.manylinux2010_x86_64.whl (15.7MB)\n",
            "\u001b[K     |████████████████████████████████| 15.7MB 190kB/s \n",
            "\u001b[?25hRequirement already satisfied, skipping upgrade: psutil in /usr/local/lib/python3.7/dist-packages (from glennopt) (5.4.8)\n",
            "Collecting dataclasses_json\n",
            "  Downloading https://files.pythonhosted.org/packages/c3/89/390710a3ad24833f2ad11295caddd37f1bc4e60a278de1c9059727a92482/dataclasses_json-0.5.4-py3-none-any.whl\n",
            "Requirement already satisfied, skipping upgrade: pandas in /usr/local/lib/python3.7/dist-packages (from glennopt) (1.1.5)\n",
            "Collecting doepy\n",
            "  Downloading https://files.pythonhosted.org/packages/a3/a7/7c2abcafe7e3142e053a9ebbff1ca9cf78b7f7f39895137f6f421491b335/doepy-0.0.1-py3-none-any.whl\n",
            "Collecting diversipy\n",
            "  Downloading https://files.pythonhosted.org/packages/56/9d/b147d06b469051bd90528468c57c7044bc51927a2ee010a8ce35f5df2604/diversipy-0.8.tar.gz\n",
            "Collecting pydoe\n",
            "  Downloading https://files.pythonhosted.org/packages/bc/ac/91fe4c039e2744466621343d3b8af4a485193ed0aab53af5b1db03be0989/pyDOE-0.3.8.zip\n",
            "Requirement already satisfied, skipping upgrade: tqdm in /usr/local/lib/python3.7/dist-packages (from glennopt) (4.41.1)\n",
            "Requirement already satisfied, skipping upgrade: cycler>=0.10 in /usr/local/lib/python3.7/dist-packages (from matplotlib) (0.10.0)\n",
            "Requirement already satisfied, skipping upgrade: pyparsing>=2.2.1 in /usr/local/lib/python3.7/dist-packages (from matplotlib) (2.4.7)\n",
            "Requirement already satisfied, skipping upgrade: kiwisolver>=1.0.1 in /usr/local/lib/python3.7/dist-packages (from matplotlib) (1.3.1)\n",
            "Requirement already satisfied, skipping upgrade: python-dateutil>=2.7 in /usr/local/lib/python3.7/dist-packages (from matplotlib) (2.8.1)\n",
            "Collecting typing-inspect>=0.4.0\n",
            "  Downloading https://files.pythonhosted.org/packages/ad/fa/77565f652ce57ed56d3a63d537c885a18e4451cf2d56d944991aeb3c82bd/typing_inspect-0.7.1-py3-none-any.whl\n",
            "Collecting marshmallow-enum<2.0.0,>=1.5.1\n",
            "  Downloading https://files.pythonhosted.org/packages/c6/59/ef3a3dc499be447098d4a89399beb869f813fee1b5a57d5d79dee2c1bf51/marshmallow_enum-1.5.1-py2.py3-none-any.whl\n",
            "Collecting marshmallow<4.0.0,>=3.3.0\n",
            "\u001b[?25l  Downloading https://files.pythonhosted.org/packages/c2/65/7cd7a1da0f52de85d3ad5b440bcc33b052fb53876b20cce8cad629a58bc6/marshmallow-3.12.2-py2.py3-none-any.whl (47kB)\n",
            "\u001b[K     |████████████████████████████████| 51kB 6.2MB/s \n",
            "\u001b[?25hCollecting stringcase<2.0.0,==1.2.0\n",
            "  Downloading https://files.pythonhosted.org/packages/f3/1f/1241aa3d66e8dc1612427b17885f5fcd9c9ee3079fc0d28e9a3aeeb36fa3/stringcase-1.2.0.tar.gz\n",
            "Requirement already satisfied, skipping upgrade: pytz>=2017.2 in /usr/local/lib/python3.7/dist-packages (from pandas->glennopt) (2018.9)\n",
            "Requirement already satisfied, skipping upgrade: scipy in /usr/local/lib/python3.7/dist-packages (from diversipy->glennopt) (1.4.1)\n",
            "Requirement already satisfied, skipping upgrade: six in /usr/local/lib/python3.7/dist-packages (from cycler>=0.10->matplotlib) (1.15.0)\n",
            "Collecting mypy-extensions>=0.3.0\n",
            "  Downloading https://files.pythonhosted.org/packages/5c/eb/975c7c080f3223a5cdaff09612f3a5221e4ba534f7039db34c35d95fa6a5/mypy_extensions-0.4.3-py2.py3-none-any.whl\n",
            "Requirement already satisfied, skipping upgrade: typing-extensions>=3.7.4 in /usr/local/lib/python3.7/dist-packages (from typing-inspect>=0.4.0->dataclasses_json->glennopt) (3.7.4.3)\n",
            "Building wheels for collected packages: diversipy, pydoe, stringcase\n",
            "  Building wheel for diversipy (setup.py) ... \u001b[?25l\u001b[?25hdone\n",
            "  Created wheel for diversipy: filename=diversipy-0.8-cp37-none-any.whl size=27531 sha256=88815252f698d124e9d0ffaddd6c9eb843610535d65f77863b3b75e79c2923bc\n",
            "  Stored in directory: /root/.cache/pip/wheels/49/89/f4/1c64e470a0af08f4aefb99efec615e5da7907435b975ab64a6\n",
            "  Building wheel for pydoe (setup.py) ... \u001b[?25l\u001b[?25hdone\n",
            "  Created wheel for pydoe: filename=pyDOE-0.3.8-cp37-none-any.whl size=18184 sha256=96871d706961ae7ccb1e175632c6f6a33377f5bdb5fe9d4e322baa961d7352d0\n",
            "  Stored in directory: /root/.cache/pip/wheels/7c/c8/58/a6493bd415e8ba5735082b5e0c096d7c1f2933077a8ce34544\n",
            "  Building wheel for stringcase (setup.py) ... \u001b[?25l\u001b[?25hdone\n",
            "  Created wheel for stringcase: filename=stringcase-1.2.0-cp37-none-any.whl size=3588 sha256=d8f914069ded44e731b08d318ac7e414afee68d330fa35242978c11e7e70733f\n",
            "  Stored in directory: /root/.cache/pip/wheels/a0/16/a0/16e2c81dbd47503b5a35583dfabde5a93b4cf98dbf0033dad5\n",
            "Successfully built diversipy pydoe stringcase\n",
            "\u001b[31mERROR: tensorflow 2.5.0 has requirement numpy~=1.19.2, but you'll have numpy 1.21.0 which is incompatible.\u001b[0m\n",
            "\u001b[31mERROR: datascience 0.10.6 has requirement folium==0.2.1, but you'll have folium 0.8.3 which is incompatible.\u001b[0m\n",
            "\u001b[31mERROR: albumentations 0.1.12 has requirement imgaug<0.2.7,>=0.2.5, but you'll have imgaug 0.2.9 which is incompatible.\u001b[0m\n",
            "Installing collected packages: mypy-extensions, typing-inspect, marshmallow, marshmallow-enum, stringcase, dataclasses-json, numpy, diversipy, pydoe, doepy, pillow, matplotlib, glennopt\n",
            "  Found existing installation: numpy 1.19.5\n",
            "    Uninstalling numpy-1.19.5:\n",
            "      Successfully uninstalled numpy-1.19.5\n",
            "  Found existing installation: Pillow 7.1.2\n",
            "    Uninstalling Pillow-7.1.2:\n",
            "      Successfully uninstalled Pillow-7.1.2\n",
            "  Found existing installation: matplotlib 3.2.2\n",
            "    Uninstalling matplotlib-3.2.2:\n",
            "      Successfully uninstalled matplotlib-3.2.2\n",
            "Successfully installed dataclasses-json-0.5.4 diversipy-0.8 doepy-0.0.1 glennopt-1.2.1 marshmallow-3.12.2 marshmallow-enum-1.5.1 matplotlib-3.4.2 mypy-extensions-0.4.3 numpy-1.21.0 pillow-8.3.1 pydoe-0.3.8 stringcase-1.2.0 typing-inspect-0.7.1\n"
          ]
        },
        {
          "output_type": "display_data",
          "data": {
            "application/vnd.colab-display-data+json": {
              "pip_warning": {
                "packages": [
                  "PIL",
                  "matplotlib",
                  "mpl_toolkits",
                  "numpy"
                ]
              }
            }
          },
          "metadata": {
            "tags": []
          }
        }
      ],
      "metadata": {
        "id": "G82fsy9HS71f",
        "colab": {
          "base_uri": "https://localhost:8080/",
          "height": 1000
        },
        "outputId": "90019faa-f55e-428d-f96c-e99c9f6b84d1"
      }
    },
    {
      "cell_type": "markdown",
      "source": [
        "Import relevant libraries"
      ],
      "metadata": {
        "id": "Mm7Az99Hm0ZA"
      }
    },
    {
      "cell_type": "code",
      "execution_count": 1,
      "source": [
        "from glennopt.base import Parameter\r\n",
        "from glennopt.optimizers import SODE\r\n",
        "from glennopt.helpers import de_mutation_type, mutation_parameters, parallel_settings\r\n",
        "from glennopt.DOE import Default,CCD,FullFactorial,LatinHyperCube\r\n",
        "import os"
      ],
      "outputs": [],
      "metadata": {
        "id": "hvsEjIEQURPF"
      }
    },
    {
      "cell_type": "code",
      "execution_count": 2,
      "source": [
        "# Setting up the optimizer\r\n",
        "current_dir = os.getcwd()\r\n",
        "pop_size = 20\r\n",
        "sode = SODE(eval_command = \"python evaluation.py\", eval_folder=\"Evaluation\",pop_size=pop_size,optimization_folder=current_dir)\r\n",
        "\r\n",
        "# Selecting the DOE type\r\n",
        "# doe = Default(15) # Default\r\n",
        "# doe = CCD()\r\n",
        "# doe = FullFactorial(levels=8)\r\n",
        "doe = LatinHyperCube(128)\r\n",
        "\r\n",
        "doe.add_parameter(name=\"x1\",min_value=-3,max_value=3)\r\n",
        "doe.add_parameter(name=\"x2\",min_value=-3,max_value=3)\r\n",
        "sode.add_eval_parameters(eval_params=doe.eval_parameters) # add in the parameters to sode \r\n",
        "\r\n",
        "doe.add_objectives(name='objective1')\r\n",
        "sode.add_objectives(objectives=doe.objectives)  # add in the objectives into sode\r\n",
        "\r\n",
        "# No performance Parameters\r\n",
        "doe.add_perf_parameter(name='p1')\r\n",
        "doe.add_perf_parameter(name='p2')\r\n",
        "sode.add_performance_parameters(performance_params=doe.perf_parameters) # add performance parameters to sode\r\n",
        "\r\n",
        "# params = mutation_parameters\r\n",
        "sode.mutation_params.mutation_type = de_mutation_type.de_rand_1_bin\r\n",
        "sode.mutation_params.F = 0.8\r\n",
        "sode.mutation_params.C = 0.7"
      ],
      "outputs": [],
      "metadata": {
        "id": "arNMkiHynevz"
      }
    },
    {
      "cell_type": "markdown",
      "source": [
        "Enable Parallel Execution (OPTIONAL) "
      ],
      "metadata": {
        "id": "rZTXHADuN8O6"
      }
    },
    {
      "cell_type": "code",
      "execution_count": 3,
      "source": [
        "# Parallel Settings (You don't need to run this block if you only want serial execution)\n",
        "parallel_settings(concurrent_executions = 8,cores_per_execution = 1, execution_timeout=30) # 8 simulations at the same time, 1 core per simulation, 30 second timeout\n",
        "sode.parallel_settings = parallel_settings # pass it into the SODE (Single Objective Differential Evolution)"
      ],
      "outputs": [],
      "metadata": {
        "id": "VMoA-2bbpN8u"
      }
    },
    {
      "cell_type": "markdown",
      "source": [
        "##Run the Design of Experiments\n",
        "Design of experiments is used to sample the evaluation space. Say you have 5 variables and f(x[1-5]) = y[1,2] and each x1 through x5 have min and max bounds. The design of experiments is used to evaluate different combinations of x1 to x5 which are used as the starting population (pop_start=-1) "
      ],
      "metadata": {
        "id": "qhFjdeCXRr2c"
      }
    },
    {
      "cell_type": "code",
      "execution_count": 4,
      "source": [
        "# Run the Design of Experiments\n",
        "sode.start_doe(doe.generate_doe())  # This generates individuals that have evaluation parameters randomly distributed between the bounds "
      ],
      "outputs": [
        {
          "output_type": "stream",
          "name": "stderr",
          "text": [
            "100%|██████████| 128/128 [00:00<00:00, 13084.52it/s]"
          ]
        },
        {
          "output_type": "stream",
          "name": "stdout",
          "text": [
            "x1 had more than two levels. Assigning the end point to the high level.\n",
            "x2 had more than two levels. Assigning the end point to the high level.\n"
          ]
        },
        {
          "output_type": "stream",
          "name": "stderr",
          "text": [
            "\n"
          ]
        }
      ],
      "metadata": {
        "id": "QATjqxjePnBg",
        "colab": {
          "base_uri": "https://localhost:8080/"
        },
        "outputId": "c279dfba-279c-4589-c997-7b7c4d57eef2"
      }
    },
    {
      "cell_type": "markdown",
      "source": [
        "### Viewing the DOE Results in a Plot "
      ],
      "metadata": {
        "id": "Yr4v1_0bpLXa"
      }
    },
    {
      "cell_type": "markdown",
      "source": [
        "To view the results, we plot the rosenbrock function (Optional) and then the scattered points from the DOE evaluated. This shows where the optimizer is sampling the design space"
      ],
      "metadata": {
        "id": "Mg-GRWmYpRoT"
      }
    },
    {
      "cell_type": "code",
      "execution_count": 5,
      "source": [
        "from Evaluation.rosenbrock import rosenbrock\n",
        "import numpy as np\n",
        "\n",
        "# Generate the Rosenbrock\n",
        "xmin = -3; xmax = 3\n",
        "ymin = -3; ymax = 3\n",
        "x = np.linspace(xmin,xmax,50)\n",
        "y = np.linspace(ymin,ymax,50)\n",
        "X,Y = np.meshgrid(x,y)\n",
        "Z = X*0\n",
        "for i in range(50):\n",
        "  for j in range(50):\n",
        "    Z[i,j] = rosenbrock([X[i,j],Y[i,j]] )\n",
        "\n",
        "# Read in the doe results\n",
        "individuals = sode.read_calculation_folder()\n",
        "eval_x = list(); eval_y = list(); eval_z = list()\n",
        "for ind in individuals[0]:          # Read the DOE individuals\n",
        "  eval_params = ind.eval_parameters\n",
        "  eval_x.append(eval_params[0]); eval_y.append(eval_params[1])\n",
        "  eval_z.append(ind.objectives[0])\n",
        "\n",
        "\n",
        "\n",
        "# Plotting the function\n",
        "from mpl_toolkits.mplot3d import Axes3D\n",
        "import matplotlib.pyplot as plt\n",
        "from matplotlib import cm\n",
        "from matplotlib.ticker import LinearLocator, FormatStrFormatter\n",
        "\n",
        "fig = plt.figure()\n",
        "ax = fig.gca(projection='3d')\n",
        "# Rosenbrock function \n",
        "surf = ax.plot_surface(X, Y, Z, cmap=cm.rainbow,\n",
        "                       linewidth=0, alpha=0.6, antialiased=True)\n",
        "# Plot the DOE's evaluation parameters (x,y) and objective value (z)\n",
        "ax.scatter(eval_x,eval_y,eval_z,color=\"r\",s=50)             \n",
        "\n",
        "fig.colorbar(surf, shrink=0.5, aspect=5)\n",
        "# rotate the axes and update\n",
        "ax.view_init(40, 100)"
      ],
      "outputs": [
        {
          "output_type": "stream",
          "name": "stderr",
          "text": [
            "/usr/local/lib/python3.7/dist-packages/ipykernel_launcher.py:32: MatplotlibDeprecationWarning: Calling gca() with keyword arguments was deprecated in Matplotlib 3.4. Starting two minor releases later, gca() will take no keyword arguments. The gca() function should only be used to get the current axes, or if no axes exist, create new axes with default keyword arguments. To create a new axes with non-default arguments, use plt.axes() or plt.subplot().\n"
          ]
        },
        {
          "output_type": "display_data",
          "data": {
            "text/plain": [
              "<Figure size 432x288 with 2 Axes>"
            ],
            "image/png": "[encoded data removed]"
          },
          "metadata": {
            "tags": [],
            "needs_background": "light"
          }
        }
      ],
      "metadata": {
        "colab": {
          "base_uri": "https://localhost:8080/",
          "height": 295
        },
        "id": "stIDa902ph14",
        "outputId": "ad13b4e0-1ecd-49f5-af74-c21159bec351"
      }
    },
    {
      "cell_type": "markdown",
      "source": [
        "##Run the Optimization"
      ],
      "metadata": {
        "id": "zuFuB1gbpEx9"
      }
    },
    {
      "cell_type": "markdown",
      "source": [
        "The code below executes the optimization. `-1` means we are starting from the DOE. If you wanted to start from a different population say population 5 just change `-1` to `5. The execution should take a few minutes."
      ],
      "metadata": {
        "id": "f_2DGCWH9xN-"
      }
    },
    {
      "cell_type": "code",
      "execution_count": 6,
      "source": [
        "# Execute the Optimization\n",
        "sode.optimize_from_population(pop_start=-1,n_generations=50) # -1 means read the doe in and run the simulation"
      ],
      "outputs": [
        {
          "output_type": "stream",
          "name": "stderr",
          "text": [
            "100%|██████████| 49/49 [01:52<00:00,  2.30s/it]\n"
          ]
        }
      ],
      "metadata": {
        "id": "CkmTt9tDV8rg",
        "colab": {
          "base_uri": "https://localhost:8080/"
        },
        "outputId": "c801f396-47a3-4f9c-e652-6a9616d6868e"
      }
    },
    {
      "cell_type": "markdown",
      "source": [
        "#Analyzing and Visualizing the Results"
      ],
      "metadata": {
        "id": "2Nds6day-DNs"
      }
    },
    {
      "cell_type": "markdown",
      "source": [
        "Plotting the best individuals and tracking that vs population. The code below shows how you can use get_best and get_pop_best to find the best individual vs population. \n",
        "\n",
        "**get_best** shows how the best performing individual changes as the population advances. \n",
        "\n",
        "**get_pop_best** looks at the individuals inside each population folder and finds the best one. \n",
        "\n",
        "Below is an example of get_best:"
      ],
      "metadata": {
        "id": "4Ay0INXp_wFv"
      }
    },
    {
      "cell_type": "code",
      "execution_count": 10,
      "source": [
        "import matplotlib.pyplot as plt\n",
        "import matplotlib.cm as cm\n",
        "import numpy as np\n",
        "from glennopt.helpers import get_best,get_pop_best\n",
        "\n",
        "# Plotting get best\n",
        "individuals = sode.read_calculation_folder()\n",
        "objectives, pop, _ = get_best(individuals,pop_size=20)\n",
        "objective_index = 0 # Single objective use 0, if you wanted the second or 3rd then just change to 1 and 2\n",
        "_, ax = plt.subplots()    \n",
        "ax.scatter(pop, objectives[:,objective_index],color='blue',s=10)\n",
        "ax.set_xlabel('Population')\n",
        "ax.set_ylabel('Objective {0} Value'.format(objective_index))\n",
        "ax.set_yscale('log',base=10) "
      ],
      "outputs": [
        {
          "output_type": "display_data",
          "data": {
            "text/plain": [
              "<Figure size 432x288 with 1 Axes>"
            ],
            "image/png": "[encoded data removed]"
          },
          "metadata": {
            "tags": [],
            "needs_background": "light"
          }
        }
      ],
      "metadata": {
        "colab": {
          "base_uri": "https://localhost:8080/",
          "height": 284
        },
        "id": "i6m7l9je_0fp",
        "outputId": "29955403-4cc6-4c8a-ef8a-0c8c3e8ce2cc"
      }
    },
    {
      "cell_type": "code",
      "execution_count": 11,
      "source": [
        "# Plot Best individual at each population\n",
        "best_individuals, best_fronts = get_pop_best(individuals)\n",
        "\n",
        "nobjectives = len(best_individuals[0][0].objectives)\n",
        "objective_data = list()\n",
        "for pop,best_individual in best_individuals.items():\n",
        "    objective_data.append(best_individual[objective_index].objectives[objective_index])\n",
        "\n",
        "_,ax = plt.subplots()\n",
        "colors = cm.rainbow(np.linspace(0, 1, len(best_individuals.keys())))\n",
        "ax.scatter(list(best_individuals.keys()), objective_data, color='blue',s=10)\n",
        "ax.set_xlabel('Population')\n",
        "ax.set_ylabel('Objective {0} Value'.format(objective_index))\n",
        "ax.set_title('Best individual at each population')\n",
        "ax.set_yscale('log',base=10) \n"
      ],
      "outputs": [
        {
          "output_type": "display_data",
          "data": {
            "text/plain": [
              "<Figure size 432x288 with 1 Axes>"
            ],
            "image/png": "[encoded data removed]"
          },
          "metadata": {
            "tags": [],
            "needs_background": "light"
          }
        }
      ],
      "metadata": {
        "colab": {
          "base_uri": "https://localhost:8080/",
          "height": 295
        },
        "id": "-pAxAMelBANP",
        "outputId": "d3eede6a-15ee-4601-b18c-e078eecc5ee4"
      }
    },
    {
      "cell_type": "markdown",
      "source": [
        "## Pareto Front"
      ],
      "metadata": {
        "id": "QJtGqi0YBG3W"
      }
    },
    {
      "cell_type": "markdown",
      "source": [
        "Because this is a single objective optimization. There really isn't a pareto front. "
      ],
      "metadata": {
        "id": "0Ril92CpBJFM"
      }
    }
  ]
}